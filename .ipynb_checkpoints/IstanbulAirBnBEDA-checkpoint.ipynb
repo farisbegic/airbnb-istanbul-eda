{
 "cells": [
  {
   "cell_type": "code",
   "execution_count": null,
   "id": "c5276b6d",
   "metadata": {},
   "outputs": [],
   "source": [
    "# Imports of necessary libraries\n",
    "import pandas as pd\n",
    "import numpy as np\n",
    "import random as rd\n",
    "import seaborn as sns\n",
    "from sklearn.cluster import KMeans \n",
    "import matplotlib.pyplot as plt"
   ]
  },
  {
   "cell_type": "code",
   "execution_count": null,
   "id": "f66a2064",
   "metadata": {},
   "outputs": [],
   "source": [
    "# Read the CSV file into a DataFrame\n",
    "df = pd.read_csv('AirbnbIstanbul.csv')"
   ]
  },
  {
   "cell_type": "code",
   "execution_count": null,
   "id": "8bdd124b",
   "metadata": {},
   "outputs": [],
   "source": [
    "# Display the first 5 rows of the DataFrame\n",
    "df.head()"
   ]
  },
  {
   "cell_type": "code",
   "execution_count": null,
   "id": "f4570448",
   "metadata": {
    "scrolled": false
   },
   "outputs": [],
   "source": [
    "# Get information about the columns in the DataFrame\n",
    "df.info()"
   ]
  },
  {
   "cell_type": "code",
   "execution_count": null,
   "id": "e40aca5f",
   "metadata": {
    "scrolled": false
   },
   "outputs": [],
   "source": [
    "# Checking how many null values each attribute has\n",
    "\n",
    "df.isnull().sum().sort_values(ascending=False)"
   ]
  },
  {
   "cell_type": "code",
   "execution_count": null,
   "id": "4c75d195",
   "metadata": {},
   "outputs": [],
   "source": [
    "# Dropping unusable columns\n",
    "\n",
    "del df[\"neighbourhood_group\"];\n",
    "del df[\"last_review\"];"
   ]
  },
  {
   "cell_type": "code",
   "execution_count": null,
   "id": "7bd57460",
   "metadata": {},
   "outputs": [],
   "source": [
    "# Dropping rows that have null in name and host_name attributes\n",
    "\n",
    "df.dropna(subset=[\"name\", \"host_name\"], inplace=True)"
   ]
  },
  {
   "cell_type": "code",
   "execution_count": null,
   "id": "2175ae49",
   "metadata": {},
   "outputs": [],
   "source": [
    "# Filling reviews with that are NaN with 0\n",
    "\n",
    "df[\"reviews_per_month\"].fillna(0, inplace=True)"
   ]
  },
  {
   "cell_type": "code",
   "execution_count": null,
   "id": "165e303c",
   "metadata": {},
   "outputs": [],
   "source": [
    "# Checking how many duplicated rows we have (rows that have every attribute of the same value)\n",
    "\n",
    "df.duplicated().sum()"
   ]
  },
  {
   "cell_type": "code",
   "execution_count": null,
   "id": "c327f1a2",
   "metadata": {},
   "outputs": [],
   "source": [
    "df.head()"
   ]
  },
  {
   "cell_type": "code",
   "execution_count": null,
   "id": "d03f2888",
   "metadata": {},
   "outputs": [],
   "source": [
    "# Rechecking the data after cleaning\n",
    "\n",
    "df.info()"
   ]
  },
  {
   "cell_type": "code",
   "execution_count": null,
   "id": "5fd803c4",
   "metadata": {
    "scrolled": true
   },
   "outputs": [],
   "source": [
    "# Analytical information about the price\n",
    "\n",
    "df['price'].describe()"
   ]
  },
  {
   "cell_type": "code",
   "execution_count": null,
   "id": "6d99994a",
   "metadata": {},
   "outputs": [],
   "source": [
    "# Taking a look at the records that have price 0\n",
    "\n",
    "free_accommodations = df[df.price==0]\n",
    "free_accommodations.head()"
   ]
  },
  {
   "cell_type": "code",
   "execution_count": null,
   "id": "cf8ea258",
   "metadata": {},
   "outputs": [],
   "source": []
  },
  {
   "cell_type": "code",
   "execution_count": null,
   "id": "bd340f8b",
   "metadata": {
    "scrolled": true
   },
   "outputs": [],
   "source": [
    "# Removing records that have price 0 because that is impossible and thus making our analytical information incorrect\n",
    "\n",
    "df.drop(df.price[df.price<=0].index,axis=0,inplace=True)\n",
    "df['price'].describe()"
   ]
  },
  {
   "cell_type": "code",
   "execution_count": null,
   "id": "bd54ad3e",
   "metadata": {
    "scrolled": true
   },
   "outputs": [],
   "source": [
    "df[df.price>10000].sort_values(by=\"price\", ascending=False).head(10)"
   ]
  },
  {
   "cell_type": "code",
   "execution_count": null,
   "id": "7db1983a",
   "metadata": {},
   "outputs": [],
   "source": [
    "# Removing price outliers using IQR method\n",
    "\n",
    "# Calculate the 25th and 75th percentiles\n",
    "q25 = df[\"price\"].quantile(0.25)\n",
    "q75 = df[\"price\"].quantile(0.75)\n",
    "\n",
    "# Calculate the interquartile range\n",
    "iqr = q75 - q25\n",
    "\n",
    "# Define the acceptable range for the price data\n",
    "lower_bound = q25 - (1.5 * iqr)\n",
    "upper_bound = q75 + (1.5 * iqr)\n",
    "\n",
    "# Remove outliers from the price data\n",
    "df = df.loc[(df[\"price\"] > lower_bound) & (df[\"price\"] < upper_bound)]\n",
    "\n",
    "# Checking the price data\n",
    "df['price'].describe()\n"
   ]
  },
  {
   "cell_type": "code",
   "execution_count": null,
   "id": "9532d14f",
   "metadata": {},
   "outputs": [],
   "source": [
    "# Checking how many records of each room type we have\n",
    "\n",
    "df[\"room_type\"].value_counts()"
   ]
  },
  {
   "cell_type": "code",
   "execution_count": null,
   "id": "f08c42cf",
   "metadata": {},
   "outputs": [],
   "source": [
    "# Accommodations with most listings\n",
    "\n",
    "chart1 = df[\"name\"].value_counts()\n",
    "chart1.head(10).plot(kind=\"bar\", title=\"Accommodations with most listings\")"
   ]
  },
  {
   "cell_type": "code",
   "execution_count": null,
   "id": "dd49e93d",
   "metadata": {},
   "outputs": [],
   "source": [
    "# Neighbourhoods with most accommodations\n",
    "\n",
    "chart2 = df.groupby(['neighbourhood']).size().sort_values(ascending=False)\n",
    "chart2.head(10).plot(kind=\"pie\", title=\"Neighbourhoods with most accommodations\")"
   ]
  },
  {
   "cell_type": "code",
   "execution_count": null,
   "id": "3fe9b6c9",
   "metadata": {
    "scrolled": false
   },
   "outputs": [],
   "source": [
    "# Average price of neighbourhood\n",
    "\n",
    "chart3 = df.groupby(\"neighbourhood\")[\"price\"].agg(['mean']).sort_values(by=\"mean\", ascending=False)\n",
    "chart3.plot(kind=\"bar\", title=\"Mean Price of Neighbourhoods\")"
   ]
  },
  {
   "cell_type": "code",
   "execution_count": null,
   "id": "d2e59d82",
   "metadata": {
    "scrolled": true
   },
   "outputs": [],
   "source": [
    "# Busiest hosts (the ones that have the most amount of reviews)\n",
    "\n",
    "chart4 = df.groupby(['host_id', 'name', 'room_type'])['number_of_reviews'].max().sort_values(ascending=False)\n",
    "chart4.head(10).plot(kind=\"bar\")"
   ]
  },
  {
   "cell_type": "code",
   "execution_count": null,
   "id": "7304432e",
   "metadata": {
    "scrolled": true
   },
   "outputs": [],
   "source": [
    "# Plotting the locations of neighbourhoods\n",
    "plt.figure(figsize=(15,15))\n",
    "sns.scatterplot(x=df['longitude'],y=df['latitude'],hue=df['neighbourhood']).set_title('Density of Hotels')"
   ]
  },
  {
   "cell_type": "code",
   "execution_count": null,
   "id": "a57d351f",
   "metadata": {},
   "outputs": [],
   "source": [
    "# Comparing price to the busyness\n",
    "\n",
    "chart5 = df.groupby(\"price\")[\"number_of_reviews\"].count().reset_index()\n",
    "\n",
    "fig = plt.figure(figsize = (10, 5))\n",
    "plt.scatter(chart5[\"price\"], chart5[\"number_of_reviews\"])\n",
    "\n",
    "plt.xlabel(\"Area\")\n",
    "plt.ylabel(\"Reviews\")\n",
    "plt.title(\"Price vs Busyness\")\n",
    "plt.show()"
   ]
  },
  {
   "cell_type": "code",
   "execution_count": null,
   "id": "3ae2b77c",
   "metadata": {
    "scrolled": true
   },
   "outputs": [],
   "source": [
    "# Calculating the mean availability of neighbourhoods\n",
    "\n",
    "chart6 = df.groupby(\"neighbourhood\")[\"availability_365\"].mean().sort_values().reset_index()\n",
    "chart6.head(10).plot(x=\"neighbourhood\", y=\"availability_365\", kind=\"bar\", title=\"Mean availability of neighbourhoods\")"
   ]
  },
  {
   "cell_type": "code",
   "execution_count": null,
   "id": "8f412a52",
   "metadata": {},
   "outputs": [],
   "source": [
    "# Plot correlations\n",
    "\n",
    "df_correlation = df[[\"latitude\", \"longitude\", \"price\", \"minimum_nights\", \"number_of_reviews\", \"reviews_per_month\", \"calculated_host_listings_count\", \"availability_365\"]]\n",
    "\n",
    "plt.figure(figsize=(8,8))\n",
    "sns.heatmap(df_correlation.corr(), cmap='Accent', annot=True)\n",
    "plt.title('Heatmap Showing Correlations of Numbered Attributes')"
   ]
  },
  {
   "cell_type": "code",
   "execution_count": null,
   "id": "28416e24",
   "metadata": {},
   "outputs": [],
   "source": [
    "unique_neighbourhoods = df['neighbourhood'].unique()\n",
    "unique_roomtypes = df['room_type'].unique()\n",
    "\n",
    "print(unique_neighbourhoods)\n",
    "print(unique_roomtypes)"
   ]
  },
  {
   "cell_type": "code",
   "execution_count": null,
   "id": "d8df0a9a",
   "metadata": {},
   "outputs": [],
   "source": [
    "df.describe()"
   ]
  },
  {
   "cell_type": "code",
   "execution_count": null,
   "id": "26a86c5f",
   "metadata": {},
   "outputs": [],
   "source": [
    "df['minimum_nights'].plot()\n",
    "plt.title('Minimum Nights')\n",
    "plt.xlabel('Listing')\n",
    "plt.ylabel('Minimum Nights')\n",
    "plt.show()"
   ]
  },
  {
   "cell_type": "code",
   "execution_count": null,
   "id": "b7997152",
   "metadata": {},
   "outputs": [],
   "source": [
    "# Dropping the outliers\n",
    "\n",
    "df.drop(df.price[df.minimum_nights>365].index,axis=0,inplace=True)"
   ]
  },
  {
   "cell_type": "code",
   "execution_count": null,
   "id": "559ae6b9",
   "metadata": {
    "scrolled": true
   },
   "outputs": [],
   "source": [
    "df['minimum_nights'].plot()\n",
    "plt.figure(figsize=(8,8))\n",
    "plt.title('Minimum Nights')\n",
    "plt.xlabel('Listing')\n",
    "plt.ylabel('Minimum Nights')\n",
    "plt.show()"
   ]
  },
  {
   "cell_type": "code",
   "execution_count": null,
   "id": "f2622cca",
   "metadata": {
    "scrolled": true
   },
   "outputs": [],
   "source": [
    "# Remove listings which are not available \n",
    "\n",
    "df.drop(df.price[df.availability_365 == 0].index,axis=0,inplace=True)\n",
    "\n",
    "df.describe()"
   ]
  },
  {
   "cell_type": "code",
   "execution_count": null,
   "id": "9e534434",
   "metadata": {
    "scrolled": true
   },
   "outputs": [],
   "source": [
    "# Create normalized price (price per night)\n",
    "\n",
    "df['price_normalized'] = df['price']/df['minimum_nights']\n",
    "\n",
    "df.head(20)"
   ]
  },
  {
   "cell_type": "code",
   "execution_count": null,
   "id": "e2a584f2",
   "metadata": {},
   "outputs": [],
   "source": [
    "# Cluster listings by the availability of the property, to understand the busiest and\n",
    "# slowest times of the year and how this impacts the availability of listings"
   ]
  },
  {
   "cell_type": "code",
   "execution_count": null,
   "id": "1b0909fc",
   "metadata": {},
   "outputs": [],
   "source": [
    "# Extract the columns that contain the information we need for clustering\n",
    "\n",
    "x = df[['price', 'availability_365']]"
   ]
  },
  {
   "cell_type": "code",
   "execution_count": null,
   "id": "8100c03c",
   "metadata": {},
   "outputs": [],
   "source": [
    "k_values = [2, 3, 4, 5, 6, 7, 8, 9, 10]\n",
    "wcss_values = []\n",
    "\n",
    "for k in k_values:\n",
    "    kmeans = KMeans(n_clusters=k, n_init=10)\n",
    "    kmeans.fit(x)\n",
    "    wcss = kmeans.inertia_\n",
    "    wcss_values.append(wcss)"
   ]
  },
  {
   "cell_type": "code",
   "execution_count": null,
   "id": "849ac45f",
   "metadata": {},
   "outputs": [],
   "source": [
    "wcss = kmeans.inertia_\n",
    "\n",
    "print(k_values)\n",
    "print(wcss_values)"
   ]
  },
  {
   "cell_type": "code",
   "execution_count": null,
   "id": "02ea2ef8",
   "metadata": {},
   "outputs": [],
   "source": [
    "plt.plot(k_values, wcss_values)\n",
    "plt.title('Elbow Method')\n",
    "plt.xlabel('Number of Clusters')\n",
    "plt.ylabel('WCSS')\n",
    "plt.show()"
   ]
  },
  {
   "cell_type": "code",
   "execution_count": null,
   "id": "458f0675",
   "metadata": {},
   "outputs": [],
   "source": [
    "# Create a K-Means clustering model with the \n",
    "# number of clusters set to 4 based on the elbow method\n",
    "\n",
    "kmeans = KMeans(n_clusters=4, n_init=10)"
   ]
  },
  {
   "cell_type": "code",
   "execution_count": null,
   "id": "af513663",
   "metadata": {},
   "outputs": [],
   "source": [
    "# Fit the K-Means model to the data\n",
    "\n",
    "kmeans.fit(x)"
   ]
  },
  {
   "cell_type": "code",
   "execution_count": null,
   "id": "ff5e09f6",
   "metadata": {},
   "outputs": [],
   "source": [
    "# Predict cluster labels for each listing in the dataset.\n",
    "\n",
    "clusters = kmeans.predict(x)"
   ]
  },
  {
   "cell_type": "code",
   "execution_count": null,
   "id": "9b4fbd51",
   "metadata": {},
   "outputs": [],
   "source": [
    "# Add cluster number to the original dataset to the each record\n",
    "\n",
    "df['cluster'] = clusters"
   ]
  },
  {
   "cell_type": "code",
   "execution_count": null,
   "id": "68e3fcca",
   "metadata": {},
   "outputs": [],
   "source": [
    "# Use groupby method to group the listings by their cluster label\n",
    "# then use the mean method to calculate the average availability for each cluster.\n",
    "\n",
    "avg_availability_by_cluster = df.groupby('cluster')['availability_365'].mean()"
   ]
  },
  {
   "cell_type": "code",
   "execution_count": null,
   "id": "e93d1adf",
   "metadata": {
    "scrolled": true
   },
   "outputs": [],
   "source": [
    "# Create a bar plot\n",
    "\n",
    "avg_availability_by_cluster.plot(kind='bar')\n",
    "plt.title('Average Availability by Cluster')\n",
    "plt.xlabel('Cluster')\n",
    "plt.ylabel('Availability (days per year)')\n",
    "plt.show()"
   ]
  },
  {
   "cell_type": "code",
   "execution_count": null,
   "id": "e47e8a41",
   "metadata": {},
   "outputs": [],
   "source": [
    "# Filter the data to only show listings that are part of the cluster with the most listings\n",
    "most_listings_cluster = avg_availability_by_cluster.idxmax()\n",
    "least_listings_cluster = avg_availability_by_cluster.idxmin()"
   ]
  },
  {
   "cell_type": "code",
   "execution_count": null,
   "id": "c2846450",
   "metadata": {},
   "outputs": [],
   "source": [
    "# Display summary statistics about the listings in the cluster with the most listings\n",
    "df[df.cluster == most_listings_cluster][\"price\"].mean()"
   ]
  },
  {
   "cell_type": "code",
   "execution_count": null,
   "id": "8198224a",
   "metadata": {},
   "outputs": [],
   "source": [
    "# Display summary statistics about the listings in the cluster with the least listings\n",
    "df[df.cluster == least_listings_cluster][\"price\"].mean()"
   ]
  }
 ],
 "metadata": {
  "kernelspec": {
   "display_name": "Python 3 (ipykernel)",
   "language": "python",
   "name": "python3"
  },
  "language_info": {
   "codemirror_mode": {
    "name": "ipython",
    "version": 3
   },
   "file_extension": ".py",
   "mimetype": "text/x-python",
   "name": "python",
   "nbconvert_exporter": "python",
   "pygments_lexer": "ipython3",
   "version": "3.11.1"
  }
 },
 "nbformat": 4,
 "nbformat_minor": 5
}
