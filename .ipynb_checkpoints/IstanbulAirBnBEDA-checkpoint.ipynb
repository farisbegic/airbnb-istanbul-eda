{
 "cells": [
  {
   "cell_type": "code",
   "execution_count": 1,
   "id": "c5276b6d",
   "metadata": {},
   "outputs": [
    {
     "ename": "ModuleNotFoundError",
     "evalue": "No module named 'sklearn'",
     "output_type": "error",
     "traceback": [
      "\u001b[0;31m---------------------------------------------------------------------------\u001b[0m",
      "\u001b[0;31mModuleNotFoundError\u001b[0m                       Traceback (most recent call last)",
      "Cell \u001b[0;32mIn[1], line 6\u001b[0m\n\u001b[1;32m      4\u001b[0m \u001b[38;5;28;01mimport\u001b[39;00m \u001b[38;5;21;01mrandom\u001b[39;00m \u001b[38;5;28;01mas\u001b[39;00m \u001b[38;5;21;01mrd\u001b[39;00m\n\u001b[1;32m      5\u001b[0m \u001b[38;5;28;01mimport\u001b[39;00m \u001b[38;5;21;01mseaborn\u001b[39;00m \u001b[38;5;28;01mas\u001b[39;00m \u001b[38;5;21;01msns\u001b[39;00m\n\u001b[0;32m----> 6\u001b[0m \u001b[38;5;28;01mfrom\u001b[39;00m \u001b[38;5;21;01msklearn\u001b[39;00m\u001b[38;5;21;01m.\u001b[39;00m\u001b[38;5;21;01mcluster\u001b[39;00m \u001b[38;5;28;01mimport\u001b[39;00m KMeans \n\u001b[1;32m      7\u001b[0m \u001b[38;5;28;01mimport\u001b[39;00m \u001b[38;5;21;01mmatplotlib\u001b[39;00m\u001b[38;5;21;01m.\u001b[39;00m\u001b[38;5;21;01mpyplot\u001b[39;00m \u001b[38;5;28;01mas\u001b[39;00m \u001b[38;5;21;01mplt\u001b[39;00m\n",
      "\u001b[0;31mModuleNotFoundError\u001b[0m: No module named 'sklearn'"
     ]
    }
   ],
   "source": [
    "# Imports of necessary libraries\n",
    "import pandas as pd\n",
    "import numpy as np\n",
    "import random as rd\n",
    "import seaborn as sns\n",
    "from sklearn.cluster import KMeans \n",
    "import matplotlib.pyplot as plt"
   ]
  },
  {
   "cell_type": "code",
   "execution_count": null,
   "id": "f66a2064",
   "metadata": {},
   "outputs": [],
   "source": [
    "# Read the CSV file into a DataFrame\n",
    "df = pd.read_csv('AirbnbIstanbul.csv')"
   ]
  },
  {
   "cell_type": "code",
   "execution_count": null,
   "id": "8bdd124b",
   "metadata": {},
   "outputs": [],
   "source": [
    "# Display the first 5 rows of the DataFrame\n",
    "df.head()"
   ]
  },
  {
   "cell_type": "code",
   "execution_count": null,
   "id": "f4570448",
   "metadata": {
    "scrolled": false
   },
   "outputs": [],
   "source": [
    "# Get information about the columns in the DataFrame\n",
    "df.info()"
   ]
  },
  {
   "cell_type": "code",
   "execution_count": null,
   "id": "e40aca5f",
   "metadata": {
    "scrolled": false
   },
   "outputs": [],
   "source": [
    "# Checking how many null values each attribute has\n",
    "\n",
    "df.isnull().sum().sort_values(ascending=False)"
   ]
  },
  {
   "cell_type": "code",
   "execution_count": null,
   "id": "4c75d195",
   "metadata": {},
   "outputs": [],
   "source": [
    "# Dropping unusable columns\n",
    "\n",
    "del df[\"neighbourhood_group\"];\n",
    "del df[\"last_review\"];"
   ]
  },
  {
   "cell_type": "code",
   "execution_count": null,
   "id": "7bd57460",
   "metadata": {},
   "outputs": [],
   "source": [
    "# Dropping rows that have null in name and host_name attributes\n",
    "\n",
    "df.dropna(subset=[\"name\", \"host_name\"], inplace=True)"
   ]
  },
  {
   "cell_type": "code",
   "execution_count": null,
   "id": "2175ae49",
   "metadata": {},
   "outputs": [],
   "source": [
    "# Filling reviews with that are NaN with 0\n",
    "\n",
    "df[\"reviews_per_month\"].fillna(0, inplace=True)"
   ]
  },
  {
   "cell_type": "code",
   "execution_count": null,
   "id": "165e303c",
   "metadata": {},
   "outputs": [],
   "source": [
    "# Checking how many duplicated rows we have (rows that have every attribute of the same value)\n",
    "\n",
    "df.duplicated().sum()"
   ]
  },
  {
   "cell_type": "code",
   "execution_count": null,
   "id": "c327f1a2",
   "metadata": {},
   "outputs": [],
   "source": [
    "df.head()"
   ]
  },
  {
   "cell_type": "code",
   "execution_count": null,
   "id": "d03f2888",
   "metadata": {},
   "outputs": [],
   "source": [
    "# Rechecking the data after cleaning\n",
    "\n",
    "df.info()"
   ]
  },
  {
   "cell_type": "code",
   "execution_count": null,
   "id": "5fd803c4",
   "metadata": {
    "scrolled": true
   },
   "outputs": [],
   "source": [
    "# Analytical information about the price\n",
    "\n",
    "df['price'].describe()"
   ]
  },
  {
   "cell_type": "code",
   "execution_count": null,
   "id": "6d99994a",
   "metadata": {},
   "outputs": [],
   "source": [
    "# Taking a look at the records that have price 0\n",
    "\n",
    "free_accommodations = df[df.price==0]\n",
    "free_accommodations.head()"
   ]
  },
  {
   "cell_type": "code",
   "execution_count": null,
   "id": "bd340f8b",
   "metadata": {
    "scrolled": true
   },
   "outputs": [],
   "source": [
    "# Removing records that have price 0 because that is impossible and thus making our analytical information incorrect\n",
    "\n",
    "df.drop(df.price[df.price<=0].index,axis=0,inplace=True)\n",
    "df['price'].describe()"
   ]
  },
  {
   "cell_type": "code",
   "execution_count": null,
   "id": "bd54ad3e",
   "metadata": {
    "scrolled": true
   },
   "outputs": [],
   "source": [
    "df[df.price>10000].sort_values(by=\"price\", ascending=False).head(10)"
   ]
  },
  {
   "cell_type": "code",
   "execution_count": null,
   "id": "7db1983a",
   "metadata": {},
   "outputs": [],
   "source": [
    "# Removing price outliers using IQR method\n",
    "\n",
    "# Calculate the 25th and 75th percentiles\n",
    "q25 = df[\"price\"].quantile(0.25)\n",
    "q75 = df[\"price\"].quantile(0.75)\n",
    "\n",
    "# Calculate the interquartile range\n",
    "iqr = q75 - q25\n",
    "\n",
    "# Define the acceptable range for the price data\n",
    "lower_bound = q25 - (1.5 * iqr)\n",
    "upper_bound = q75 + (1.5 * iqr)\n",
    "\n",
    "# Remove outliers from the price data\n",
    "df = df.loc[(df[\"price\"] > lower_bound) & (df[\"price\"] < upper_bound)]\n",
    "\n",
    "# Checking the price data\n",
    "df['price'].describe()\n"
   ]
  },
  {
   "cell_type": "code",
   "execution_count": null,
   "id": "9532d14f",
   "metadata": {},
   "outputs": [],
   "source": [
    "# Checking how many records of each room type we have\n",
    "\n",
    "df[\"room_type\"].value_counts()"
   ]
  },
  {
   "cell_type": "code",
   "execution_count": null,
   "id": "f08c42cf",
   "metadata": {},
   "outputs": [],
   "source": [
    "# Accommodations with most listings\n",
    "\n",
    "chart1 = df[\"name\"].value_counts()\n",
    "chart1.head(10).plot(kind=\"bar\", title=\"Accommodations with most listings\")"
   ]
  },
  {
   "cell_type": "code",
   "execution_count": null,
   "id": "dd49e93d",
   "metadata": {},
   "outputs": [],
   "source": [
    "# Neighbourhoods with most accommodations\n",
    "\n",
    "chart2 = df.groupby(['neighbourhood']).size().sort_values(ascending=False)\n",
    "chart2.head(10).plot(kind=\"pie\", title=\"Neighbourhoods with most accommodations\")"
   ]
  },
  {
   "cell_type": "code",
   "execution_count": null,
   "id": "3fe9b6c9",
   "metadata": {
    "scrolled": false
   },
   "outputs": [],
   "source": [
    "# Average price of neighbourhood\n",
    "\n",
    "chart3 = df.groupby(\"neighbourhood\")[\"price\"].agg(['mean']).sort_values(by=\"mean\", ascending=False)\n",
    "chart3.plot(kind=\"bar\", title=\"Mean Price of Neighbourhoods\")"
   ]
  },
  {
   "cell_type": "code",
   "execution_count": null,
   "id": "d2e59d82",
   "metadata": {
    "scrolled": true
   },
   "outputs": [],
   "source": [
    "# Busiest hosts (the ones that have the most amount of reviews)\n",
    "\n",
    "chart4 = df.groupby(['host_id', 'name', 'room_type'])['number_of_reviews'].max().sort_values(ascending=False)\n",
    "chart4.head(10).plot(kind=\"bar\")"
   ]
  },
  {
   "cell_type": "code",
   "execution_count": null,
   "id": "7304432e",
   "metadata": {
    "scrolled": true
   },
   "outputs": [],
   "source": [
    "# Plotting the locations of neighbourhoods\n",
    "plt.figure(figsize=(15,15))\n",
    "sns.scatterplot(x=df['longitude'],y=df['latitude'],hue=df['neighbourhood']).set_title('Density of Hotels')"
   ]
  },
  {
   "cell_type": "code",
   "execution_count": null,
   "id": "a57d351f",
   "metadata": {},
   "outputs": [],
   "source": [
    "# Comparing price to the busyness\n",
    "\n",
    "chart5 = df.groupby(\"price\")[\"number_of_reviews\"].count().reset_index()\n",
    "\n",
    "fig = plt.figure(figsize = (10, 5))\n",
    "plt.scatter(chart5[\"price\"], chart5[\"number_of_reviews\"])\n",
    "\n",
    "plt.xlabel(\"Area\")\n",
    "plt.ylabel(\"Reviews\")\n",
    "plt.title(\"Price vs Busyness\")\n",
    "plt.show()"
   ]
  },
  {
   "cell_type": "code",
   "execution_count": null,
   "id": "3ae2b77c",
   "metadata": {
    "scrolled": true
   },
   "outputs": [],
   "source": [
    "# Calculating the mean availability of neighbourhoods\n",
    "\n",
    "chart6 = df.groupby(\"neighbourhood\")[\"availability_365\"].mean().sort_values().reset_index()\n",
    "chart6.head(10).plot(x=\"neighbourhood\", y=\"availability_365\", kind=\"bar\", title=\"Mean availability of neighbourhoods\")"
   ]
  },
  {
   "cell_type": "code",
   "execution_count": null,
   "id": "8f412a52",
   "metadata": {},
   "outputs": [],
   "source": []
  },
  {
   "cell_type": "code",
   "execution_count": null,
   "id": "28416e24",
   "metadata": {},
   "outputs": [],
   "source": []
  }
 ],
 "metadata": {
  "kernelspec": {
   "display_name": "Python 3 (ipykernel)",
   "language": "python",
   "name": "python3"
  },
  "language_info": {
   "codemirror_mode": {
    "name": "ipython",
    "version": 3
   },
   "file_extension": ".py",
   "mimetype": "text/x-python",
   "name": "python",
   "nbconvert_exporter": "python",
   "pygments_lexer": "ipython3",
   "version": "3.11.1"
  }
 },
 "nbformat": 4,
 "nbformat_minor": 5
}
