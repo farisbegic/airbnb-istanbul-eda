{
 "cells": [
  {
   "cell_type": "code",
   "execution_count": 1,
   "id": "c5276b6d",
   "metadata": {},
   "outputs": [],
   "source": [
    "# Imports of necessary libraries\n",
    "import pandas as pd\n",
    "import seaborn as sns\n",
    "import matplotlib\n",
    "import matplotlib.pyplot as plt"
   ]
  },
  {
   "cell_type": "code",
   "execution_count": 2,
   "id": "f66a2064",
   "metadata": {},
   "outputs": [],
   "source": [
    "# Read the CSV file into a DataFrame\n",
    "df = pd.read_csv('AirbnbIstanbul.csv')"
   ]
  },
  {
   "cell_type": "code",
   "execution_count": 3,
   "id": "8bdd124b",
   "metadata": {},
   "outputs": [
    {
     "data": {
      "text/html": [
       "<div>\n",
       "<style scoped>\n",
       "    .dataframe tbody tr th:only-of-type {\n",
       "        vertical-align: middle;\n",
       "    }\n",
       "\n",
       "    .dataframe tbody tr th {\n",
       "        vertical-align: top;\n",
       "    }\n",
       "\n",
       "    .dataframe thead th {\n",
       "        text-align: right;\n",
       "    }\n",
       "</style>\n",
       "<table border=\"1\" class=\"dataframe\">\n",
       "  <thead>\n",
       "    <tr style=\"text-align: right;\">\n",
       "      <th></th>\n",
       "      <th>id</th>\n",
       "      <th>name</th>\n",
       "      <th>host_id</th>\n",
       "      <th>host_name</th>\n",
       "      <th>neighbourhood_group</th>\n",
       "      <th>neighbourhood</th>\n",
       "      <th>latitude</th>\n",
       "      <th>longitude</th>\n",
       "      <th>room_type</th>\n",
       "      <th>price</th>\n",
       "      <th>minimum_nights</th>\n",
       "      <th>number_of_reviews</th>\n",
       "      <th>last_review</th>\n",
       "      <th>reviews_per_month</th>\n",
       "      <th>calculated_host_listings_count</th>\n",
       "      <th>availability_365</th>\n",
       "    </tr>\n",
       "  </thead>\n",
       "  <tbody>\n",
       "    <tr>\n",
       "      <th>0</th>\n",
       "      <td>4826</td>\n",
       "      <td>The Place</td>\n",
       "      <td>6603</td>\n",
       "      <td>Kaan</td>\n",
       "      <td>NaN</td>\n",
       "      <td>Uskudar</td>\n",
       "      <td>41.05650</td>\n",
       "      <td>29.05367</td>\n",
       "      <td>Entire home/apt</td>\n",
       "      <td>554</td>\n",
       "      <td>1</td>\n",
       "      <td>1</td>\n",
       "      <td>2009-06-01</td>\n",
       "      <td>0.01</td>\n",
       "      <td>1</td>\n",
       "      <td>365</td>\n",
       "    </tr>\n",
       "    <tr>\n",
       "      <th>1</th>\n",
       "      <td>20815</td>\n",
       "      <td>The Bosphorus from The Comfy Hill</td>\n",
       "      <td>78838</td>\n",
       "      <td>Gülder</td>\n",
       "      <td>NaN</td>\n",
       "      <td>Besiktas</td>\n",
       "      <td>41.06984</td>\n",
       "      <td>29.04545</td>\n",
       "      <td>Entire home/apt</td>\n",
       "      <td>100</td>\n",
       "      <td>30</td>\n",
       "      <td>41</td>\n",
       "      <td>2018-11-07</td>\n",
       "      <td>0.38</td>\n",
       "      <td>2</td>\n",
       "      <td>49</td>\n",
       "    </tr>\n",
       "    <tr>\n",
       "      <th>2</th>\n",
       "      <td>25436</td>\n",
       "      <td>House for vacation rental furnutare</td>\n",
       "      <td>105823</td>\n",
       "      <td>Yesim</td>\n",
       "      <td>NaN</td>\n",
       "      <td>Besiktas</td>\n",
       "      <td>41.07731</td>\n",
       "      <td>29.03891</td>\n",
       "      <td>Entire home/apt</td>\n",
       "      <td>211</td>\n",
       "      <td>21</td>\n",
       "      <td>0</td>\n",
       "      <td>NaN</td>\n",
       "      <td>NaN</td>\n",
       "      <td>1</td>\n",
       "      <td>83</td>\n",
       "    </tr>\n",
       "    <tr>\n",
       "      <th>3</th>\n",
       "      <td>27271</td>\n",
       "      <td>LOVELY APT. IN PERFECT LOCATION</td>\n",
       "      <td>117026</td>\n",
       "      <td>Mutlu</td>\n",
       "      <td>NaN</td>\n",
       "      <td>Beyoglu</td>\n",
       "      <td>41.03220</td>\n",
       "      <td>28.98216</td>\n",
       "      <td>Entire home/apt</td>\n",
       "      <td>237</td>\n",
       "      <td>5</td>\n",
       "      <td>2</td>\n",
       "      <td>2018-05-04</td>\n",
       "      <td>0.04</td>\n",
       "      <td>1</td>\n",
       "      <td>228</td>\n",
       "    </tr>\n",
       "    <tr>\n",
       "      <th>4</th>\n",
       "      <td>28277</td>\n",
       "      <td>Duplex Apartment with Terrace</td>\n",
       "      <td>121607</td>\n",
       "      <td>Alen</td>\n",
       "      <td>NaN</td>\n",
       "      <td>Sisli</td>\n",
       "      <td>41.04471</td>\n",
       "      <td>28.98567</td>\n",
       "      <td>Entire home/apt</td>\n",
       "      <td>591</td>\n",
       "      <td>3</td>\n",
       "      <td>0</td>\n",
       "      <td>NaN</td>\n",
       "      <td>NaN</td>\n",
       "      <td>13</td>\n",
       "      <td>356</td>\n",
       "    </tr>\n",
       "  </tbody>\n",
       "</table>\n",
       "</div>"
      ],
      "text/plain": [
       "      id                                 name  host_id host_name  \\\n",
       "0   4826                            The Place     6603      Kaan   \n",
       "1  20815    The Bosphorus from The Comfy Hill    78838    Gülder   \n",
       "2  25436  House for vacation rental furnutare   105823     Yesim   \n",
       "3  27271      LOVELY APT. IN PERFECT LOCATION   117026     Mutlu   \n",
       "4  28277       Duplex Apartment with Terrace    121607      Alen   \n",
       "\n",
       "   neighbourhood_group neighbourhood  latitude  longitude        room_type  \\\n",
       "0                  NaN       Uskudar  41.05650   29.05367  Entire home/apt   \n",
       "1                  NaN      Besiktas  41.06984   29.04545  Entire home/apt   \n",
       "2                  NaN      Besiktas  41.07731   29.03891  Entire home/apt   \n",
       "3                  NaN       Beyoglu  41.03220   28.98216  Entire home/apt   \n",
       "4                  NaN         Sisli  41.04471   28.98567  Entire home/apt   \n",
       "\n",
       "   price  minimum_nights  number_of_reviews last_review  reviews_per_month  \\\n",
       "0    554               1                  1  2009-06-01               0.01   \n",
       "1    100              30                 41  2018-11-07               0.38   \n",
       "2    211              21                  0         NaN                NaN   \n",
       "3    237               5                  2  2018-05-04               0.04   \n",
       "4    591               3                  0         NaN                NaN   \n",
       "\n",
       "   calculated_host_listings_count  availability_365  \n",
       "0                               1               365  \n",
       "1                               2                49  \n",
       "2                               1                83  \n",
       "3                               1               228  \n",
       "4                              13               356  "
      ]
     },
     "execution_count": 3,
     "metadata": {},
     "output_type": "execute_result"
    }
   ],
   "source": [
    "# Display the first 5 rows of the DataFrame\n",
    "df.head()"
   ]
  },
  {
   "cell_type": "code",
   "execution_count": 4,
   "id": "f4570448",
   "metadata": {
    "scrolled": false
   },
   "outputs": [
    {
     "name": "stdout",
     "output_type": "stream",
     "text": [
      "<class 'pandas.core.frame.DataFrame'>\n",
      "RangeIndex: 16251 entries, 0 to 16250\n",
      "Data columns (total 16 columns):\n",
      " #   Column                          Non-Null Count  Dtype  \n",
      "---  ------                          --------------  -----  \n",
      " 0   id                              16251 non-null  int64  \n",
      " 1   name                            16160 non-null  object \n",
      " 2   host_id                         16251 non-null  int64  \n",
      " 3   host_name                       16244 non-null  object \n",
      " 4   neighbourhood_group             0 non-null      float64\n",
      " 5   neighbourhood                   16251 non-null  object \n",
      " 6   latitude                        16251 non-null  float64\n",
      " 7   longitude                       16251 non-null  float64\n",
      " 8   room_type                       16251 non-null  object \n",
      " 9   price                           16251 non-null  int64  \n",
      " 10  minimum_nights                  16251 non-null  int64  \n",
      " 11  number_of_reviews               16251 non-null  int64  \n",
      " 12  last_review                     7767 non-null   object \n",
      " 13  reviews_per_month               7767 non-null   float64\n",
      " 14  calculated_host_listings_count  16251 non-null  int64  \n",
      " 15  availability_365                16251 non-null  int64  \n",
      "dtypes: float64(4), int64(7), object(5)\n",
      "memory usage: 2.0+ MB\n"
     ]
    }
   ],
   "source": [
    "# Get information about the columns in the DataFrame\n",
    "df.info()"
   ]
  },
  {
   "cell_type": "code",
   "execution_count": 5,
   "id": "e40aca5f",
   "metadata": {
    "scrolled": false
   },
   "outputs": [
    {
     "data": {
      "text/plain": [
       "neighbourhood_group               16251\n",
       "last_review                        8484\n",
       "reviews_per_month                  8484\n",
       "name                                 91\n",
       "host_name                             7\n",
       "id                                    0\n",
       "host_id                               0\n",
       "neighbourhood                         0\n",
       "latitude                              0\n",
       "longitude                             0\n",
       "room_type                             0\n",
       "price                                 0\n",
       "minimum_nights                        0\n",
       "number_of_reviews                     0\n",
       "calculated_host_listings_count        0\n",
       "availability_365                      0\n",
       "dtype: int64"
      ]
     },
     "execution_count": 5,
     "metadata": {},
     "output_type": "execute_result"
    }
   ],
   "source": [
    "# Checking how many null values each attribute has\n",
    "\n",
    "df.isnull().sum().sort_values(ascending=False)"
   ]
  },
  {
   "cell_type": "code",
   "execution_count": 6,
   "id": "4c75d195",
   "metadata": {},
   "outputs": [],
   "source": [
    "# Dropping unusable columns\n",
    "\n",
    "del df[\"neighbourhood_group\"];\n",
    "del df[\"last_review\"];"
   ]
  },
  {
   "cell_type": "code",
   "execution_count": 7,
   "id": "7bd57460",
   "metadata": {},
   "outputs": [],
   "source": [
    "# Dropping rows that have null in name and host_name attributes\n",
    "\n",
    "df.dropna(subset=[\"name\", \"host_name\"], inplace=True)"
   ]
  },
  {
   "cell_type": "code",
   "execution_count": 8,
   "id": "2175ae49",
   "metadata": {},
   "outputs": [],
   "source": [
    "# Filling reviews with that are NaN with 0\n",
    "\n",
    "df[\"reviews_per_month\"].fillna(0, inplace=True)"
   ]
  },
  {
   "cell_type": "code",
   "execution_count": 9,
   "id": "165e303c",
   "metadata": {},
   "outputs": [
    {
     "data": {
      "text/plain": [
       "0"
      ]
     },
     "execution_count": 9,
     "metadata": {},
     "output_type": "execute_result"
    }
   ],
   "source": [
    "# Checking how many duplicated rows we have (rows that have every attribute of the same value)\n",
    "\n",
    "df.duplicated().sum()"
   ]
  },
  {
   "cell_type": "code",
   "execution_count": 10,
   "id": "c327f1a2",
   "metadata": {},
   "outputs": [
    {
     "data": {
      "text/html": [
       "<div>\n",
       "<style scoped>\n",
       "    .dataframe tbody tr th:only-of-type {\n",
       "        vertical-align: middle;\n",
       "    }\n",
       "\n",
       "    .dataframe tbody tr th {\n",
       "        vertical-align: top;\n",
       "    }\n",
       "\n",
       "    .dataframe thead th {\n",
       "        text-align: right;\n",
       "    }\n",
       "</style>\n",
       "<table border=\"1\" class=\"dataframe\">\n",
       "  <thead>\n",
       "    <tr style=\"text-align: right;\">\n",
       "      <th></th>\n",
       "      <th>id</th>\n",
       "      <th>name</th>\n",
       "      <th>host_id</th>\n",
       "      <th>host_name</th>\n",
       "      <th>neighbourhood</th>\n",
       "      <th>latitude</th>\n",
       "      <th>longitude</th>\n",
       "      <th>room_type</th>\n",
       "      <th>price</th>\n",
       "      <th>minimum_nights</th>\n",
       "      <th>number_of_reviews</th>\n",
       "      <th>reviews_per_month</th>\n",
       "      <th>calculated_host_listings_count</th>\n",
       "      <th>availability_365</th>\n",
       "    </tr>\n",
       "  </thead>\n",
       "  <tbody>\n",
       "    <tr>\n",
       "      <th>0</th>\n",
       "      <td>4826</td>\n",
       "      <td>The Place</td>\n",
       "      <td>6603</td>\n",
       "      <td>Kaan</td>\n",
       "      <td>Uskudar</td>\n",
       "      <td>41.05650</td>\n",
       "      <td>29.05367</td>\n",
       "      <td>Entire home/apt</td>\n",
       "      <td>554</td>\n",
       "      <td>1</td>\n",
       "      <td>1</td>\n",
       "      <td>0.01</td>\n",
       "      <td>1</td>\n",
       "      <td>365</td>\n",
       "    </tr>\n",
       "    <tr>\n",
       "      <th>1</th>\n",
       "      <td>20815</td>\n",
       "      <td>The Bosphorus from The Comfy Hill</td>\n",
       "      <td>78838</td>\n",
       "      <td>Gülder</td>\n",
       "      <td>Besiktas</td>\n",
       "      <td>41.06984</td>\n",
       "      <td>29.04545</td>\n",
       "      <td>Entire home/apt</td>\n",
       "      <td>100</td>\n",
       "      <td>30</td>\n",
       "      <td>41</td>\n",
       "      <td>0.38</td>\n",
       "      <td>2</td>\n",
       "      <td>49</td>\n",
       "    </tr>\n",
       "    <tr>\n",
       "      <th>2</th>\n",
       "      <td>25436</td>\n",
       "      <td>House for vacation rental furnutare</td>\n",
       "      <td>105823</td>\n",
       "      <td>Yesim</td>\n",
       "      <td>Besiktas</td>\n",
       "      <td>41.07731</td>\n",
       "      <td>29.03891</td>\n",
       "      <td>Entire home/apt</td>\n",
       "      <td>211</td>\n",
       "      <td>21</td>\n",
       "      <td>0</td>\n",
       "      <td>0.00</td>\n",
       "      <td>1</td>\n",
       "      <td>83</td>\n",
       "    </tr>\n",
       "    <tr>\n",
       "      <th>3</th>\n",
       "      <td>27271</td>\n",
       "      <td>LOVELY APT. IN PERFECT LOCATION</td>\n",
       "      <td>117026</td>\n",
       "      <td>Mutlu</td>\n",
       "      <td>Beyoglu</td>\n",
       "      <td>41.03220</td>\n",
       "      <td>28.98216</td>\n",
       "      <td>Entire home/apt</td>\n",
       "      <td>237</td>\n",
       "      <td>5</td>\n",
       "      <td>2</td>\n",
       "      <td>0.04</td>\n",
       "      <td>1</td>\n",
       "      <td>228</td>\n",
       "    </tr>\n",
       "    <tr>\n",
       "      <th>4</th>\n",
       "      <td>28277</td>\n",
       "      <td>Duplex Apartment with Terrace</td>\n",
       "      <td>121607</td>\n",
       "      <td>Alen</td>\n",
       "      <td>Sisli</td>\n",
       "      <td>41.04471</td>\n",
       "      <td>28.98567</td>\n",
       "      <td>Entire home/apt</td>\n",
       "      <td>591</td>\n",
       "      <td>3</td>\n",
       "      <td>0</td>\n",
       "      <td>0.00</td>\n",
       "      <td>13</td>\n",
       "      <td>356</td>\n",
       "    </tr>\n",
       "  </tbody>\n",
       "</table>\n",
       "</div>"
      ],
      "text/plain": [
       "      id                                 name  host_id host_name  \\\n",
       "0   4826                            The Place     6603      Kaan   \n",
       "1  20815    The Bosphorus from The Comfy Hill    78838    Gülder   \n",
       "2  25436  House for vacation rental furnutare   105823     Yesim   \n",
       "3  27271      LOVELY APT. IN PERFECT LOCATION   117026     Mutlu   \n",
       "4  28277       Duplex Apartment with Terrace    121607      Alen   \n",
       "\n",
       "  neighbourhood  latitude  longitude        room_type  price  minimum_nights  \\\n",
       "0       Uskudar  41.05650   29.05367  Entire home/apt    554               1   \n",
       "1      Besiktas  41.06984   29.04545  Entire home/apt    100              30   \n",
       "2      Besiktas  41.07731   29.03891  Entire home/apt    211              21   \n",
       "3       Beyoglu  41.03220   28.98216  Entire home/apt    237               5   \n",
       "4         Sisli  41.04471   28.98567  Entire home/apt    591               3   \n",
       "\n",
       "   number_of_reviews  reviews_per_month  calculated_host_listings_count  \\\n",
       "0                  1               0.01                               1   \n",
       "1                 41               0.38                               2   \n",
       "2                  0               0.00                               1   \n",
       "3                  2               0.04                               1   \n",
       "4                  0               0.00                              13   \n",
       "\n",
       "   availability_365  \n",
       "0               365  \n",
       "1                49  \n",
       "2                83  \n",
       "3               228  \n",
       "4               356  "
      ]
     },
     "execution_count": 10,
     "metadata": {},
     "output_type": "execute_result"
    }
   ],
   "source": [
    "df.head()"
   ]
  },
  {
   "cell_type": "code",
   "execution_count": 11,
   "id": "d03f2888",
   "metadata": {},
   "outputs": [
    {
     "name": "stdout",
     "output_type": "stream",
     "text": [
      "<class 'pandas.core.frame.DataFrame'>\n",
      "Int64Index: 16155 entries, 0 to 16250\n",
      "Data columns (total 14 columns):\n",
      " #   Column                          Non-Null Count  Dtype  \n",
      "---  ------                          --------------  -----  \n",
      " 0   id                              16155 non-null  int64  \n",
      " 1   name                            16155 non-null  object \n",
      " 2   host_id                         16155 non-null  int64  \n",
      " 3   host_name                       16155 non-null  object \n",
      " 4   neighbourhood                   16155 non-null  object \n",
      " 5   latitude                        16155 non-null  float64\n",
      " 6   longitude                       16155 non-null  float64\n",
      " 7   room_type                       16155 non-null  object \n",
      " 8   price                           16155 non-null  int64  \n",
      " 9   minimum_nights                  16155 non-null  int64  \n",
      " 10  number_of_reviews               16155 non-null  int64  \n",
      " 11  reviews_per_month               16155 non-null  float64\n",
      " 12  calculated_host_listings_count  16155 non-null  int64  \n",
      " 13  availability_365                16155 non-null  int64  \n",
      "dtypes: float64(3), int64(7), object(4)\n",
      "memory usage: 1.8+ MB\n"
     ]
    }
   ],
   "source": [
    "# Rechecking the data after cleaning\n",
    "\n",
    "df.info()"
   ]
  },
  {
   "cell_type": "code",
   "execution_count": 12,
   "id": "9532d14f",
   "metadata": {},
   "outputs": [
    {
     "data": {
      "text/plain": [
       "Private room       8501\n",
       "Entire home/apt    7164\n",
       "Shared room         490\n",
       "Name: room_type, dtype: int64"
      ]
     },
     "execution_count": 12,
     "metadata": {},
     "output_type": "execute_result"
    }
   ],
   "source": [
    "# Checking how many records of each room type we have\n",
    "\n",
    "df[\"room_type\"].value_counts()"
   ]
  },
  {
   "cell_type": "code",
   "execution_count": 13,
   "id": "5fd803c4",
   "metadata": {
    "scrolled": true
   },
   "outputs": [
    {
     "data": {
      "text/plain": [
       "count    16155.000000\n",
       "mean       355.289941\n",
       "std       1433.062707\n",
       "min          0.000000\n",
       "25%        105.000000\n",
       "50%        185.000000\n",
       "75%        327.000000\n",
       "max      59561.000000\n",
       "Name: price, dtype: float64"
      ]
     },
     "execution_count": 13,
     "metadata": {},
     "output_type": "execute_result"
    }
   ],
   "source": [
    "# Analytical information about the price\n",
    "\n",
    "df['price'].describe()"
   ]
  },
  {
   "cell_type": "code",
   "execution_count": 14,
   "id": "bd340f8b",
   "metadata": {},
   "outputs": [
    {
     "data": {
      "text/plain": [
       "count    16152.000000\n",
       "mean       355.355931\n",
       "std       1433.187613\n",
       "min         16.000000\n",
       "25%        105.000000\n",
       "50%        187.500000\n",
       "75%        327.000000\n",
       "max      59561.000000\n",
       "Name: price, dtype: float64"
      ]
     },
     "execution_count": 14,
     "metadata": {},
     "output_type": "execute_result"
    }
   ],
   "source": [
    "# Removing records that have price 0 because that is impossible and thus making our analytical information incorrect\n",
    "\n",
    "df.drop(df.price[df.price<=0].index,axis=0,inplace=True)\n",
    "df['price'].describe()"
   ]
  },
  {
   "cell_type": "code",
   "execution_count": 15,
   "id": "f08c42cf",
   "metadata": {},
   "outputs": [
    {
     "data": {
      "text/plain": [
       "<AxesSubplot: title={'center': 'Accommodations with most listings'}>"
      ]
     },
     "execution_count": 15,
     "metadata": {},
     "output_type": "execute_result"
    },
    {
     "data": {
      "image/png": "[encoded data removed]",
      "text/plain": [
       "<Figure size 640x480 with 1 Axes>"
      ]
     },
     "metadata": {},
     "output_type": "display_data"
    }
   ],
   "source": [
    "# Accommodations with most listings\n",
    "\n",
    "chart1 = df[\"name\"].value_counts()\n",
    "chart1.head(10).plot(kind=\"bar\", title=\"Accommodations with most listings\")"
   ]
  },
  {
   "cell_type": "code",
   "execution_count": 16,
   "id": "dd49e93d",
   "metadata": {},
   "outputs": [
    {
     "data": {
      "text/plain": [
       "<AxesSubplot: title={'center': 'Neighbourhoods with most accommodations'}>"
      ]
     },
     "execution_count": 16,
     "metadata": {},
     "output_type": "execute_result"
    },
    {
     "data": {
      "image/png": "[encoded data removed]",
      "text/plain": [
       "<Figure size 640x480 with 1 Axes>"
      ]
     },
     "metadata": {},
     "output_type": "display_data"
    }
   ],
   "source": [
    "chart2 = df.groupby(['neighbourhood']).size().sort_values(ascending=False)\n",
    "chart2.head(10).plot(kind=\"pie\", title=\"Neighbourhoods with most accommodations\")"
   ]
  },
  {
   "cell_type": "code",
   "execution_count": 17,
   "id": "3fe9b6c9",
   "metadata": {
    "scrolled": false
   },
   "outputs": [
    {
     "data": {
      "text/plain": [
       "<AxesSubplot: title={'center': 'Mean Price of Neighbourhoods'}, xlabel='neighbourhood'>"
      ]
     },
     "execution_count": 17,
     "metadata": {},
     "output_type": "execute_result"
    },
    {
     "data": {
      "image/png": "[encoded data removed]",
      "text/plain": [
       "<Figure size 640x480 with 1 Axes>"
      ]
     },
     "metadata": {},
     "output_type": "display_data"
    }
   ],
   "source": [
    "chart3 = df.groupby(\"neighbourhood\")[\"price\"].agg(['mean']).sort_values(by=\"mean\", ascending=False)\n",
    "chart3.head(10).plot(kind=\"bar\", title=\"Mean Price of Neighbourhoods\")"
   ]
  },
  {
   "cell_type": "code",
   "execution_count": 18,
   "id": "45f72cb4",
   "metadata": {},
   "outputs": [
    {
     "data": {
      "text/html": [
       "<div>\n",
       "<style scoped>\n",
       "    .dataframe tbody tr th:only-of-type {\n",
       "        vertical-align: middle;\n",
       "    }\n",
       "\n",
       "    .dataframe tbody tr th {\n",
       "        vertical-align: top;\n",
       "    }\n",
       "\n",
       "    .dataframe thead th {\n",
       "        text-align: right;\n",
       "    }\n",
       "</style>\n",
       "<table border=\"1\" class=\"dataframe\">\n",
       "  <thead>\n",
       "    <tr style=\"text-align: right;\">\n",
       "      <th></th>\n",
       "      <th>id</th>\n",
       "      <th>name</th>\n",
       "      <th>host_id</th>\n",
       "      <th>host_name</th>\n",
       "      <th>neighbourhood</th>\n",
       "      <th>latitude</th>\n",
       "      <th>longitude</th>\n",
       "      <th>room_type</th>\n",
       "      <th>price</th>\n",
       "      <th>minimum_nights</th>\n",
       "      <th>number_of_reviews</th>\n",
       "      <th>reviews_per_month</th>\n",
       "      <th>calculated_host_listings_count</th>\n",
       "      <th>availability_365</th>\n",
       "    </tr>\n",
       "  </thead>\n",
       "  <tbody>\n",
       "    <tr>\n",
       "      <th>0</th>\n",
       "      <td>4826</td>\n",
       "      <td>The Place</td>\n",
       "      <td>6603</td>\n",
       "      <td>Kaan</td>\n",
       "      <td>Uskudar</td>\n",
       "      <td>41.05650</td>\n",
       "      <td>29.05367</td>\n",
       "      <td>Entire home/apt</td>\n",
       "      <td>554</td>\n",
       "      <td>1</td>\n",
       "      <td>1</td>\n",
       "      <td>0.01</td>\n",
       "      <td>1</td>\n",
       "      <td>365</td>\n",
       "    </tr>\n",
       "    <tr>\n",
       "      <th>1</th>\n",
       "      <td>20815</td>\n",
       "      <td>The Bosphorus from The Comfy Hill</td>\n",
       "      <td>78838</td>\n",
       "      <td>Gülder</td>\n",
       "      <td>Besiktas</td>\n",
       "      <td>41.06984</td>\n",
       "      <td>29.04545</td>\n",
       "      <td>Entire home/apt</td>\n",
       "      <td>100</td>\n",
       "      <td>30</td>\n",
       "      <td>41</td>\n",
       "      <td>0.38</td>\n",
       "      <td>2</td>\n",
       "      <td>49</td>\n",
       "    </tr>\n",
       "    <tr>\n",
       "      <th>2</th>\n",
       "      <td>25436</td>\n",
       "      <td>House for vacation rental furnutare</td>\n",
       "      <td>105823</td>\n",
       "      <td>Yesim</td>\n",
       "      <td>Besiktas</td>\n",
       "      <td>41.07731</td>\n",
       "      <td>29.03891</td>\n",
       "      <td>Entire home/apt</td>\n",
       "      <td>211</td>\n",
       "      <td>21</td>\n",
       "      <td>0</td>\n",
       "      <td>0.00</td>\n",
       "      <td>1</td>\n",
       "      <td>83</td>\n",
       "    </tr>\n",
       "    <tr>\n",
       "      <th>3</th>\n",
       "      <td>27271</td>\n",
       "      <td>LOVELY APT. IN PERFECT LOCATION</td>\n",
       "      <td>117026</td>\n",
       "      <td>Mutlu</td>\n",
       "      <td>Beyoglu</td>\n",
       "      <td>41.03220</td>\n",
       "      <td>28.98216</td>\n",
       "      <td>Entire home/apt</td>\n",
       "      <td>237</td>\n",
       "      <td>5</td>\n",
       "      <td>2</td>\n",
       "      <td>0.04</td>\n",
       "      <td>1</td>\n",
       "      <td>228</td>\n",
       "    </tr>\n",
       "    <tr>\n",
       "      <th>4</th>\n",
       "      <td>28277</td>\n",
       "      <td>Duplex Apartment with Terrace</td>\n",
       "      <td>121607</td>\n",
       "      <td>Alen</td>\n",
       "      <td>Sisli</td>\n",
       "      <td>41.04471</td>\n",
       "      <td>28.98567</td>\n",
       "      <td>Entire home/apt</td>\n",
       "      <td>591</td>\n",
       "      <td>3</td>\n",
       "      <td>0</td>\n",
       "      <td>0.00</td>\n",
       "      <td>13</td>\n",
       "      <td>356</td>\n",
       "    </tr>\n",
       "  </tbody>\n",
       "</table>\n",
       "</div>"
      ],
      "text/plain": [
       "      id                                 name  host_id host_name  \\\n",
       "0   4826                            The Place     6603      Kaan   \n",
       "1  20815    The Bosphorus from The Comfy Hill    78838    Gülder   \n",
       "2  25436  House for vacation rental furnutare   105823     Yesim   \n",
       "3  27271      LOVELY APT. IN PERFECT LOCATION   117026     Mutlu   \n",
       "4  28277       Duplex Apartment with Terrace    121607      Alen   \n",
       "\n",
       "  neighbourhood  latitude  longitude        room_type  price  minimum_nights  \\\n",
       "0       Uskudar  41.05650   29.05367  Entire home/apt    554               1   \n",
       "1      Besiktas  41.06984   29.04545  Entire home/apt    100              30   \n",
       "2      Besiktas  41.07731   29.03891  Entire home/apt    211              21   \n",
       "3       Beyoglu  41.03220   28.98216  Entire home/apt    237               5   \n",
       "4         Sisli  41.04471   28.98567  Entire home/apt    591               3   \n",
       "\n",
       "   number_of_reviews  reviews_per_month  calculated_host_listings_count  \\\n",
       "0                  1               0.01                               1   \n",
       "1                 41               0.38                               2   \n",
       "2                  0               0.00                               1   \n",
       "3                  2               0.04                               1   \n",
       "4                  0               0.00                              13   \n",
       "\n",
       "   availability_365  \n",
       "0               365  \n",
       "1                49  \n",
       "2                83  \n",
       "3               228  \n",
       "4               356  "
      ]
     },
     "execution_count": 18,
     "metadata": {},
     "output_type": "execute_result"
    }
   ],
   "source": [
    "df.head()"
   ]
  },
  {
   "cell_type": "code",
   "execution_count": 19,
   "id": "d21d9b3f",
   "metadata": {},
   "outputs": [
    {
     "ename": "KeyError",
     "evalue": "'number_of_reviews'",
     "output_type": "error",
     "traceback": [
      "\u001b[0;31m---------------------------------------------------------------------------\u001b[0m",
      "\u001b[0;31mKeyError\u001b[0m                                  Traceback (most recent call last)",
      "File \u001b[0;32m/Library/Frameworks/Python.framework/Versions/3.11/lib/python3.11/site-packages/pandas/core/indexes/base.py:3803\u001b[0m, in \u001b[0;36mIndex.get_loc\u001b[0;34m(self, key, method, tolerance)\u001b[0m\n\u001b[1;32m   3802\u001b[0m \u001b[38;5;28;01mtry\u001b[39;00m:\n\u001b[0;32m-> 3803\u001b[0m     \u001b[38;5;28;01mreturn\u001b[39;00m \u001b[38;5;28;43mself\u001b[39;49m\u001b[38;5;241;43m.\u001b[39;49m\u001b[43m_engine\u001b[49m\u001b[38;5;241;43m.\u001b[39;49m\u001b[43mget_loc\u001b[49m\u001b[43m(\u001b[49m\u001b[43mcasted_key\u001b[49m\u001b[43m)\u001b[49m\n\u001b[1;32m   3804\u001b[0m \u001b[38;5;28;01mexcept\u001b[39;00m \u001b[38;5;167;01mKeyError\u001b[39;00m \u001b[38;5;28;01mas\u001b[39;00m err:\n",
      "File \u001b[0;32m/Library/Frameworks/Python.framework/Versions/3.11/lib/python3.11/site-packages/pandas/_libs/index.pyx:138\u001b[0m, in \u001b[0;36mpandas._libs.index.IndexEngine.get_loc\u001b[0;34m()\u001b[0m\n",
      "File \u001b[0;32m/Library/Frameworks/Python.framework/Versions/3.11/lib/python3.11/site-packages/pandas/_libs/index.pyx:165\u001b[0m, in \u001b[0;36mpandas._libs.index.IndexEngine.get_loc\u001b[0;34m()\u001b[0m\n",
      "File \u001b[0;32mpandas/_libs/hashtable_class_helper.pxi:5745\u001b[0m, in \u001b[0;36mpandas._libs.hashtable.PyObjectHashTable.get_item\u001b[0;34m()\u001b[0m\n",
      "File \u001b[0;32mpandas/_libs/hashtable_class_helper.pxi:5753\u001b[0m, in \u001b[0;36mpandas._libs.hashtable.PyObjectHashTable.get_item\u001b[0;34m()\u001b[0m\n",
      "\u001b[0;31mKeyError\u001b[0m: 'number_of_reviews'",
      "\nThe above exception was the direct cause of the following exception:\n",
      "\u001b[0;31mKeyError\u001b[0m                                  Traceback (most recent call last)",
      "Cell \u001b[0;32mIn[19], line 5\u001b[0m\n\u001b[1;32m      3\u001b[0m areas_review \u001b[38;5;241m=\u001b[39m df\u001b[38;5;241m.\u001b[39mgroupby(\u001b[38;5;124m'\u001b[39m\u001b[38;5;124mneighbourhood\u001b[39m\u001b[38;5;124m'\u001b[39m)[\u001b[38;5;124m'\u001b[39m\u001b[38;5;124mnumber_of_reviews\u001b[39m\u001b[38;5;124m'\u001b[39m]\u001b[38;5;241m.\u001b[39mmax()\n\u001b[1;32m      4\u001b[0m plt\u001b[38;5;241m.\u001b[39mrcParams[\u001b[38;5;124m'\u001b[39m\u001b[38;5;124mfigure.figsize\u001b[39m\u001b[38;5;124m'\u001b[39m] \u001b[38;5;241m=\u001b[39m (\u001b[38;5;241m12\u001b[39m,\u001b[38;5;241m8\u001b[39m)\n\u001b[0;32m----> 5\u001b[0m reviews \u001b[38;5;241m=\u001b[39m \u001b[43mareas_review\u001b[49m\u001b[43m[\u001b[49m\u001b[38;5;124;43m'\u001b[39;49m\u001b[38;5;124;43mnumber_of_reviews\u001b[39;49m\u001b[38;5;124;43m'\u001b[39;49m\u001b[43m]\u001b[49m\n\u001b[1;32m      6\u001b[0m plt\u001b[38;5;241m.\u001b[39mpie(reviews, labels \u001b[38;5;241m=\u001b[39m areas_review[\u001b[38;5;124m'\u001b[39m\u001b[38;5;124mneighbourhood\u001b[39m\u001b[38;5;124m'\u001b[39m], autopct \u001b[38;5;241m=\u001b[39m\u001b[38;5;124m'\u001b[39m\u001b[38;5;132;01m%0.2f\u001b[39;00m\u001b[38;5;132;01m%%\u001b[39;00m\u001b[38;5;124m'\u001b[39m, startangle \u001b[38;5;241m=\u001b[39m\u001b[38;5;241m60\u001b[39m,explode \u001b[38;5;241m=\u001b[39m [\u001b[38;5;241m0.1\u001b[39m,\u001b[38;5;241m0.1\u001b[39m,\u001b[38;5;241m0.1\u001b[39m,\u001b[38;5;241m0.1\u001b[39m,\u001b[38;5;241m0.1\u001b[39m], shadow \u001b[38;5;241m=\u001b[39m \u001b[38;5;28;01mTrue\u001b[39;00m)\n\u001b[1;32m      7\u001b[0m plt\u001b[38;5;241m.\u001b[39mtitle(\u001b[38;5;124m'\u001b[39m\u001b[38;5;124mNumber of monthly reviews in each neighbourhood group\u001b[39m\u001b[38;5;124m'\u001b[39m, {\u001b[38;5;124m'\u001b[39m\u001b[38;5;124mfontsize\u001b[39m\u001b[38;5;124m'\u001b[39m: \u001b[38;5;241m20\u001b[39m})\n",
      "File \u001b[0;32m/Library/Frameworks/Python.framework/Versions/3.11/lib/python3.11/site-packages/pandas/core/series.py:981\u001b[0m, in \u001b[0;36mSeries.__getitem__\u001b[0;34m(self, key)\u001b[0m\n\u001b[1;32m    978\u001b[0m     \u001b[38;5;28;01mreturn\u001b[39;00m \u001b[38;5;28mself\u001b[39m\u001b[38;5;241m.\u001b[39m_values[key]\n\u001b[1;32m    980\u001b[0m \u001b[38;5;28;01melif\u001b[39;00m key_is_scalar:\n\u001b[0;32m--> 981\u001b[0m     \u001b[38;5;28;01mreturn\u001b[39;00m \u001b[38;5;28;43mself\u001b[39;49m\u001b[38;5;241;43m.\u001b[39;49m\u001b[43m_get_value\u001b[49m\u001b[43m(\u001b[49m\u001b[43mkey\u001b[49m\u001b[43m)\u001b[49m\n\u001b[1;32m    983\u001b[0m \u001b[38;5;28;01mif\u001b[39;00m is_hashable(key):\n\u001b[1;32m    984\u001b[0m     \u001b[38;5;66;03m# Otherwise index.get_value will raise InvalidIndexError\u001b[39;00m\n\u001b[1;32m    985\u001b[0m     \u001b[38;5;28;01mtry\u001b[39;00m:\n\u001b[1;32m    986\u001b[0m         \u001b[38;5;66;03m# For labels that don't resolve as scalars like tuples and frozensets\u001b[39;00m\n",
      "File \u001b[0;32m/Library/Frameworks/Python.framework/Versions/3.11/lib/python3.11/site-packages/pandas/core/series.py:1089\u001b[0m, in \u001b[0;36mSeries._get_value\u001b[0;34m(self, label, takeable)\u001b[0m\n\u001b[1;32m   1086\u001b[0m     \u001b[38;5;28;01mreturn\u001b[39;00m \u001b[38;5;28mself\u001b[39m\u001b[38;5;241m.\u001b[39m_values[label]\n\u001b[1;32m   1088\u001b[0m \u001b[38;5;66;03m# Similar to Index.get_value, but we do not fall back to positional\u001b[39;00m\n\u001b[0;32m-> 1089\u001b[0m loc \u001b[38;5;241m=\u001b[39m \u001b[38;5;28;43mself\u001b[39;49m\u001b[38;5;241;43m.\u001b[39;49m\u001b[43mindex\u001b[49m\u001b[38;5;241;43m.\u001b[39;49m\u001b[43mget_loc\u001b[49m\u001b[43m(\u001b[49m\u001b[43mlabel\u001b[49m\u001b[43m)\u001b[49m\n\u001b[1;32m   1090\u001b[0m \u001b[38;5;28;01mreturn\u001b[39;00m \u001b[38;5;28mself\u001b[39m\u001b[38;5;241m.\u001b[39mindex\u001b[38;5;241m.\u001b[39m_get_values_for_loc(\u001b[38;5;28mself\u001b[39m, loc, label)\n",
      "File \u001b[0;32m/Library/Frameworks/Python.framework/Versions/3.11/lib/python3.11/site-packages/pandas/core/indexes/base.py:3805\u001b[0m, in \u001b[0;36mIndex.get_loc\u001b[0;34m(self, key, method, tolerance)\u001b[0m\n\u001b[1;32m   3803\u001b[0m     \u001b[38;5;28;01mreturn\u001b[39;00m \u001b[38;5;28mself\u001b[39m\u001b[38;5;241m.\u001b[39m_engine\u001b[38;5;241m.\u001b[39mget_loc(casted_key)\n\u001b[1;32m   3804\u001b[0m \u001b[38;5;28;01mexcept\u001b[39;00m \u001b[38;5;167;01mKeyError\u001b[39;00m \u001b[38;5;28;01mas\u001b[39;00m err:\n\u001b[0;32m-> 3805\u001b[0m     \u001b[38;5;28;01mraise\u001b[39;00m \u001b[38;5;167;01mKeyError\u001b[39;00m(key) \u001b[38;5;28;01mfrom\u001b[39;00m \u001b[38;5;21;01merr\u001b[39;00m\n\u001b[1;32m   3806\u001b[0m \u001b[38;5;28;01mexcept\u001b[39;00m \u001b[38;5;167;01mTypeError\u001b[39;00m:\n\u001b[1;32m   3807\u001b[0m     \u001b[38;5;66;03m# If we have a listlike key, _check_indexing_error will raise\u001b[39;00m\n\u001b[1;32m   3808\u001b[0m     \u001b[38;5;66;03m#  InvalidIndexError. Otherwise we fall through and re-raise\u001b[39;00m\n\u001b[1;32m   3809\u001b[0m     \u001b[38;5;66;03m#  the TypeError.\u001b[39;00m\n\u001b[1;32m   3810\u001b[0m     \u001b[38;5;28mself\u001b[39m\u001b[38;5;241m.\u001b[39m_check_indexing_error(key)\n",
      "\u001b[0;31mKeyError\u001b[0m: 'number_of_reviews'"
     ]
    }
   ],
   "source": [
    "# Visualising the number of reviews in each neighbourhood group through pie chart\n",
    "\n",
    "areas_review = df.groupby('neighbourhood')['number_of_reviews'].max()\n",
    "plt.rcParams['figure.figsize'] = (12,8)\n",
    "reviews = areas_review['number_of_reviews']\n",
    "plt.pie(reviews, labels = areas_review['neighbourhood'], autopct ='%0.2f%%', startangle =60,explode = [0.1,0.1,0.1,0.1,0.1], shadow = True)\n",
    "plt.title('Number of monthly reviews in each neighbourhood group', {'fontsize': 20})\n",
    "plt.show()"
   ]
  }
 ],
 "metadata": {
  "kernelspec": {
   "display_name": "Python 3 (ipykernel)",
   "language": "python",
   "name": "python3"
  },
  "language_info": {
   "codemirror_mode": {
    "name": "ipython",
    "version": 3
   },
   "file_extension": ".py",
   "mimetype": "text/x-python",
   "name": "python",
   "nbconvert_exporter": "python",
   "pygments_lexer": "ipython3",
   "version": "3.11.0"
  }
 },
 "nbformat": 4,
 "nbformat_minor": 5
}
